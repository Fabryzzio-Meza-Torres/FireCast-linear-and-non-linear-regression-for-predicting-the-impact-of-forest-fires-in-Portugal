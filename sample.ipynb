{
 "cells": [
  {
   "metadata": {},
   "cell_type": "markdown",
   "source": [
    "# This is a sample Jupyter Notebook\n",
    "\n",
    "Below is an example of a code cell. \n",
    "Put your cursor into the cell and press Shift+Enter to execute it and select the next one, or click 'Run Cell' button.\n",
    "\n",
    "Press Double Shift to search everywhere for classes, files, tool windows, actions, and settings.\n",
    "\n",
    "To learn more about Jupyter Notebooks in PyCharm, see [help](https://www.jetbrains.com/help/pycharm/ipython-notebook-support.html).\n",
    "For an overview of PyCharm, go to Help -> Learn IDE features or refer to [our documentation](https://www.jetbrains.com/help/pycharm/getting-started.html)."
   ],
   "id": "8a77807f92f26ee"
  },
  {
   "metadata": {
    "ExecuteTime": {
     "end_time": "2024-09-07T20:02:03.729297Z",
     "start_time": "2024-09-07T20:02:02.890605Z"
    }
   },
   "cell_type": "code",
   "source": [
    "import numpy as np\n",
    "import pandas as pd\n",
    "import matplotlib.pyplot as plt\n",
    "from mpl_toolkits.mplot3d import Axes3D\n",
    "import math\n",
    "\n",
    "from numpy.f2py.rules import numpy_version\n"
   ],
   "id": "fbc121e30a2defb3",
   "outputs": [],
   "execution_count": 1
  },
  {
   "metadata": {
    "ExecuteTime": {
     "end_time": "2024-09-07T20:30:18.574884Z",
     "start_time": "2024-09-07T20:30:18.558140Z"
    }
   },
   "cell_type": "code",
   "source": [
    "data = pd.read_csv('data/forestfires.csv')\n",
    "\n",
    "day_mapping = {'mon': 1, 'tue': 2, 'wed': 3, 'thu': 4, 'fri': 5, 'sat': 6, 'sun': 7}\n",
    "month_mapping = {'jan': 1, 'feb': 2, 'mar': 3, 'apr': 4, 'may': 5, 'jun': 6,\n",
    "                 'jul': 7, 'aug': 8, 'sep': 9, 'oct': 10, 'nov': 11, 'dec': 12}\n",
    "\n",
    "data['day'] = data['day'].map(day_mapping)\n",
    "data['month'] = data['month'].map(month_mapping)\n",
    "\n",
    "X_initial = data[[\"X\",\"Y\", \"month\",\t\"day\",\t\"FFMC\",\t\"DMC\", \"DC\", \"ISI\",\t\"temp\",\t\"RH\",\t\"wind\",\t\"rain\"]]\n",
    "Y_initial = data[[\"area\"]]\n",
    "\n",
    "X_initial.head()\n"
   ],
   "id": "3739c7b4b71c45a1",
   "outputs": [
    {
     "data": {
      "text/plain": [
       "   X  Y  month  day  FFMC   DMC     DC  ISI  temp  RH  wind  rain\n",
       "0  7  5      3    5  86.2  26.2   94.3  5.1   8.2  51   6.7   0.0\n",
       "1  7  4     10    2  90.6  35.4  669.1  6.7  18.0  33   0.9   0.0\n",
       "2  7  4     10    6  90.6  43.7  686.9  6.7  14.6  33   1.3   0.0\n",
       "3  8  6      3    5  91.7  33.3   77.5  9.0   8.3  97   4.0   0.2\n",
       "4  8  6      3    7  89.3  51.3  102.2  9.6  11.4  99   1.8   0.0"
      ],
      "text/html": [
       "<div>\n",
       "<style scoped>\n",
       "    .dataframe tbody tr th:only-of-type {\n",
       "        vertical-align: middle;\n",
       "    }\n",
       "\n",
       "    .dataframe tbody tr th {\n",
       "        vertical-align: top;\n",
       "    }\n",
       "\n",
       "    .dataframe thead th {\n",
       "        text-align: right;\n",
       "    }\n",
       "</style>\n",
       "<table border=\"1\" class=\"dataframe\">\n",
       "  <thead>\n",
       "    <tr style=\"text-align: right;\">\n",
       "      <th></th>\n",
       "      <th>X</th>\n",
       "      <th>Y</th>\n",
       "      <th>month</th>\n",
       "      <th>day</th>\n",
       "      <th>FFMC</th>\n",
       "      <th>DMC</th>\n",
       "      <th>DC</th>\n",
       "      <th>ISI</th>\n",
       "      <th>temp</th>\n",
       "      <th>RH</th>\n",
       "      <th>wind</th>\n",
       "      <th>rain</th>\n",
       "    </tr>\n",
       "  </thead>\n",
       "  <tbody>\n",
       "    <tr>\n",
       "      <th>0</th>\n",
       "      <td>7</td>\n",
       "      <td>5</td>\n",
       "      <td>3</td>\n",
       "      <td>5</td>\n",
       "      <td>86.2</td>\n",
       "      <td>26.2</td>\n",
       "      <td>94.3</td>\n",
       "      <td>5.1</td>\n",
       "      <td>8.2</td>\n",
       "      <td>51</td>\n",
       "      <td>6.7</td>\n",
       "      <td>0.0</td>\n",
       "    </tr>\n",
       "    <tr>\n",
       "      <th>1</th>\n",
       "      <td>7</td>\n",
       "      <td>4</td>\n",
       "      <td>10</td>\n",
       "      <td>2</td>\n",
       "      <td>90.6</td>\n",
       "      <td>35.4</td>\n",
       "      <td>669.1</td>\n",
       "      <td>6.7</td>\n",
       "      <td>18.0</td>\n",
       "      <td>33</td>\n",
       "      <td>0.9</td>\n",
       "      <td>0.0</td>\n",
       "    </tr>\n",
       "    <tr>\n",
       "      <th>2</th>\n",
       "      <td>7</td>\n",
       "      <td>4</td>\n",
       "      <td>10</td>\n",
       "      <td>6</td>\n",
       "      <td>90.6</td>\n",
       "      <td>43.7</td>\n",
       "      <td>686.9</td>\n",
       "      <td>6.7</td>\n",
       "      <td>14.6</td>\n",
       "      <td>33</td>\n",
       "      <td>1.3</td>\n",
       "      <td>0.0</td>\n",
       "    </tr>\n",
       "    <tr>\n",
       "      <th>3</th>\n",
       "      <td>8</td>\n",
       "      <td>6</td>\n",
       "      <td>3</td>\n",
       "      <td>5</td>\n",
       "      <td>91.7</td>\n",
       "      <td>33.3</td>\n",
       "      <td>77.5</td>\n",
       "      <td>9.0</td>\n",
       "      <td>8.3</td>\n",
       "      <td>97</td>\n",
       "      <td>4.0</td>\n",
       "      <td>0.2</td>\n",
       "    </tr>\n",
       "    <tr>\n",
       "      <th>4</th>\n",
       "      <td>8</td>\n",
       "      <td>6</td>\n",
       "      <td>3</td>\n",
       "      <td>7</td>\n",
       "      <td>89.3</td>\n",
       "      <td>51.3</td>\n",
       "      <td>102.2</td>\n",
       "      <td>9.6</td>\n",
       "      <td>11.4</td>\n",
       "      <td>99</td>\n",
       "      <td>1.8</td>\n",
       "      <td>0.0</td>\n",
       "    </tr>\n",
       "  </tbody>\n",
       "</table>\n",
       "</div>"
      ]
     },
     "execution_count": 29,
     "metadata": {},
     "output_type": "execute_result"
    }
   ],
   "execution_count": 29
  },
  {
   "metadata": {
    "ExecuteTime": {
     "end_time": "2024-09-07T20:02:14.586264Z",
     "start_time": "2024-09-07T20:02:14.577805Z"
    }
   },
   "cell_type": "code",
   "source": "Y_initial.head()",
   "id": "b446866ed030e9",
   "outputs": [
    {
     "data": {
      "text/plain": [
       "   area\n",
       "0   0.0\n",
       "1   0.0\n",
       "2   0.0\n",
       "3   0.0\n",
       "4   0.0"
      ],
      "text/html": [
       "<div>\n",
       "<style scoped>\n",
       "    .dataframe tbody tr th:only-of-type {\n",
       "        vertical-align: middle;\n",
       "    }\n",
       "\n",
       "    .dataframe tbody tr th {\n",
       "        vertical-align: top;\n",
       "    }\n",
       "\n",
       "    .dataframe thead th {\n",
       "        text-align: right;\n",
       "    }\n",
       "</style>\n",
       "<table border=\"1\" class=\"dataframe\">\n",
       "  <thead>\n",
       "    <tr style=\"text-align: right;\">\n",
       "      <th></th>\n",
       "      <th>area</th>\n",
       "    </tr>\n",
       "  </thead>\n",
       "  <tbody>\n",
       "    <tr>\n",
       "      <th>0</th>\n",
       "      <td>0.0</td>\n",
       "    </tr>\n",
       "    <tr>\n",
       "      <th>1</th>\n",
       "      <td>0.0</td>\n",
       "    </tr>\n",
       "    <tr>\n",
       "      <th>2</th>\n",
       "      <td>0.0</td>\n",
       "    </tr>\n",
       "    <tr>\n",
       "      <th>3</th>\n",
       "      <td>0.0</td>\n",
       "    </tr>\n",
       "    <tr>\n",
       "      <th>4</th>\n",
       "      <td>0.0</td>\n",
       "    </tr>\n",
       "  </tbody>\n",
       "</table>\n",
       "</div>"
      ]
     },
     "execution_count": 3,
     "metadata": {},
     "output_type": "execute_result"
    }
   ],
   "execution_count": 3
  },
  {
   "metadata": {
    "ExecuteTime": {
     "end_time": "2024-09-07T20:02:16.843857Z",
     "start_time": "2024-09-07T20:02:16.837714Z"
    }
   },
   "cell_type": "code",
   "source": [
    "def h(X, W):\n",
    "    return np.dot(X, W)"
   ],
   "id": "41d48d278a63188",
   "outputs": [],
   "execution_count": 4
  },
  {
   "metadata": {
    "ExecuteTime": {
     "end_time": "2024-09-07T20:02:18.465260Z",
     "start_time": "2024-09-07T20:02:18.457673Z"
    }
   },
   "cell_type": "code",
   "source": [
    "def Error(X, W, Y,lam):\n",
    "  return np.sum((Y - h(X, W)) ** 2) / (2 * len(X)) + lam \n",
    "\n",
    "# * np.sum(W ** 2)"
   ],
   "id": "e113f1c7eb3a7f0a",
   "outputs": [],
   "execution_count": 5
  },
  {
   "metadata": {
    "ExecuteTime": {
     "end_time": "2024-09-07T20:02:19.496153Z",
     "start_time": "2024-09-07T20:02:19.492744Z"
    }
   },
   "cell_type": "code",
   "source": [
    "def derivada(X, W, Y, lam):\n",
    "    # write your code here\n",
    "    # Return a (k+1)x1 vector. This vector contains the derivatives from Loss function\n",
    "    # respect to all variable w_j\n",
    "    yh = (Y-h(X, W)).transpose()\n",
    "    dwj = np.dot(yh, -1 * X).transpose() / len(Y) + 2 * lam * W\n",
    "    return dwj"
   ],
   "id": "660b7c4f0b50daf5",
   "outputs": [],
   "execution_count": 6
  },
  {
   "metadata": {
    "ExecuteTime": {
     "end_time": "2024-09-07T20:02:20.827724Z",
     "start_time": "2024-09-07T20:02:20.817622Z"
    }
   },
   "cell_type": "code",
   "source": [
    "def update(W,  dW, alpha):\n",
    "  # write your code here\n",
    "  return W - dW * alpha"
   ],
   "id": "41c3828a2ef55e80",
   "outputs": [],
   "execution_count": 7
  },
  {
   "metadata": {
    "ExecuteTime": {
     "end_time": "2024-09-07T20:38:54.762891Z",
     "start_time": "2024-09-07T20:38:54.757878Z"
    }
   },
   "cell_type": "code",
   "source": [
    "def train(X, Y, epochs, alfa,lam):\n",
    "    np.random.seed(2001)\n",
    "    W = np.array([np.random.rand() for i in range(X.shape[1])])\n",
    "    print(W)\n",
    "    L = Error(X,W,Y,lam)\n",
    "    print(\"Inicial\", L)\n",
    "    loss = []\n",
    "    for i in range(epochs):\n",
    "        dW = derivada(X, W, Y,lam)\n",
    "        W = update(W, dW, alfa)\n",
    "        L = Error(X, W,Y,lam)\n",
    "        loss.append(L)\n",
    "        if i%100000==0:\n",
    "            print(\"Final\", L)\n",
    "    print(W)\n",
    "    return W, loss"
   ],
   "id": "6da4d0965c012778",
   "outputs": [],
   "execution_count": 35
  },
  {
   "metadata": {
    "ExecuteTime": {
     "end_time": "2024-09-07T20:02:24.767527Z",
     "start_time": "2024-09-07T20:02:24.762523Z"
    }
   },
   "cell_type": "code",
   "source": [
    "#Plotear la ecuación\n",
    "def conver_matrix(X, p):\n",
    "  potencia = [i for i in range(p)]\n",
    "  XX = [ [ e**i for e in X ] for i in potencia]\n",
    "  return np.array(XX).T\n",
    "\n"
   ],
   "id": "f284ff0a8ff1133c",
   "outputs": [],
   "execution_count": 9
  },
  {
   "metadata": {
    "ExecuteTime": {
     "end_time": "2024-09-07T20:24:53.656042Z",
     "start_time": "2024-09-07T20:24:53.650469Z"
    }
   },
   "cell_type": "code",
   "source": [
    "def conver_matrix2(X, p):\n",
    "    n_cols = X.shape[1]\n",
    "    XX = np.hstack([X**i for i in range(p)])\n",
    "    return np.array(XX)  "
   ],
   "id": "883bbb3a81ef7a1c",
   "outputs": [],
   "execution_count": 25
  },
  {
   "metadata": {
    "ExecuteTime": {
     "end_time": "2024-09-07T20:04:16.655224Z",
     "start_time": "2024-09-07T20:04:16.647601Z"
    }
   },
   "cell_type": "code",
   "source": [
    "x_isi = np.array(X_initial[\"ISI\"])\n",
    "y_area = np.log(2 + np.array(Y_initial[\"area\"]))\n",
    "\n",
    "x_isi  = (min(x_isi) - x_isi)/(max(x_isi) - min(x_isi))\n",
    "y_area  = (min(y_area) - y_area)/(max(y_area) - min(y_area))\n",
    "\n",
    "xx_isi = conver_matrix(x_isi,6)\n",
    "\n",
    "# w , loss = train(xx_isi,y_area, 10000, 0.9, 0.1)\n",
    "# \n",
    "# \n",
    "# plt.plot(x_isi,y_area,\"*\")\n",
    "# y_aprox = h(xx_isi,w)\n",
    "# \n",
    "# \n",
    "# plt.plot(x_isi,y_aprox,\"o\")"
   ],
   "id": "ec86bfc30dca9180",
   "outputs": [
    {
     "name": "stdout",
     "output_type": "stream",
     "text": [
      "(517, 6)\n"
     ]
    }
   ],
   "execution_count": 14
  },
  {
   "metadata": {
    "ExecuteTime": {
     "end_time": "2024-09-07T21:46:21.483742Z",
     "start_time": "2024-09-07T21:46:21.471847Z"
    }
   },
   "cell_type": "code",
   "source": [
    "\n",
    "x_vars = np.array(X_initial[[\"X\",\"Y\", \"month\",\t\"day\",\t\"FFMC\",\t\"DMC\", \"DC\", \"ISI\",\t\"temp\",\t\"RH\",\t\"wind\",\t\"rain\"]])\n",
    "\n",
    "y_area = np.log(1 + np.array(Y_initial[\"area\"]))\n",
    "\n",
    "min_vals = np.min(x_vars)\n",
    "max_vals = np.max(x_vars)\n",
    "x_norm = abs((min_vals - x_vars) / (max_vals - min_vals))\n",
    "\n",
    "y_norm  = abs((min(y_area) - y_area)/(max(y_area) - min(y_area)))\n",
    "\n",
    "\n",
    "xx_vars = conver_matrix2(x_norm, 3)\n",
    "print(xx_vars.shape)"
   ],
   "id": "450e8226088b8913",
   "outputs": [
    {
     "name": "stdout",
     "output_type": "stream",
     "text": [
      "(517, 36)\n"
     ]
    }
   ],
   "execution_count": 102
  },
  {
   "metadata": {
    "ExecuteTime": {
     "end_time": "2024-09-07T21:46:22.787813Z",
     "start_time": "2024-09-07T21:46:22.622159Z"
    }
   },
   "cell_type": "code",
   "source": [
    "w , loss = train(xx_vars,y_norm, 1000, 0.08, 0.1)\n",
    "plt.plot(loss)\n",
    "\n",
    "# y_aprox = h(xx_isi,w)\n"
   ],
   "id": "ffeedd413824d61c",
   "outputs": [
    {
     "name": "stdout",
     "output_type": "stream",
     "text": [
      "[0.16712564 0.08099804 0.96022574 0.93845024 0.62085885 0.42560197\n",
      " 0.68978129 0.24203462 0.36660064 0.14195103 0.21019224 0.90794452\n",
      " 0.64405072 0.20727221 0.43596563 0.95635709 0.69778773 0.52989243\n",
      " 0.58110074 0.33954328 0.81749589 0.08160132 0.65421571 0.64452427\n",
      " 0.90425307 0.82497026 0.26373263 0.43155152 0.49897241 0.15030076\n",
      " 0.40642355 0.05687411 0.64351347 0.65772245 0.06606537 0.64535942]\n",
      "Inicial 20.3667566629669\n",
      "Final 0.14836764561830604\n",
      "[ 1.16909702e-02  1.16909617e-02  1.16910487e-02  1.16910465e-02\n",
      "  1.16910151e-02  1.16909958e-02  1.16910219e-02  1.16909776e-02\n",
      "  1.16909900e-02  1.16909677e-02  1.16909745e-02  1.16910435e-02\n",
      "  2.39103181e-04  1.19663962e-04  3.15428666e-04  5.80212528e-05\n",
      "  1.44793337e-03  4.41552565e-03  1.51843915e-02  2.39249083e-05\n",
      "  4.89438366e-04 -3.92475080e-04  2.10705081e-04  7.85097794e-06\n",
      "  2.79764705e-06  8.92195320e-07  4.71900861e-06  5.10629843e-07\n",
      "  1.60006054e-04  1.14028388e-03  1.18255173e-02 -4.62298925e-06\n",
      "  2.47770172e-05 -9.06175338e-05  2.06251564e-06  1.61567645e-07]\n"
     ]
    },
    {
     "data": {
      "text/plain": [
       "[<matplotlib.lines.Line2D at 0x24103c20440>]"
      ]
     },
     "execution_count": 103,
     "metadata": {},
     "output_type": "execute_result"
    },
    {
     "data": {
      "text/plain": [
       "<Figure size 640x480 with 1 Axes>"
      ],
      "image/png": "[encoded data removed]"
     },
     "metadata": {},
     "output_type": "display_data"
    }
   ],
   "execution_count": 103
  },
  {
   "metadata": {
    "ExecuteTime": {
     "end_time": "2024-09-07T21:46:26.228753Z",
     "start_time": "2024-09-07T21:46:26.161813Z"
    }
   },
   "cell_type": "code",
   "source": [
    "y_aprox = h(xx_vars,w)\n",
    "plt.plot(y_norm, \"o\")\n",
    "plt.plot(y_aprox, \"*\")"
   ],
   "id": "c823438b90761f82",
   "outputs": [
    {
     "data": {
      "text/plain": [
       "[<matplotlib.lines.Line2D at 0x24103c35f40>]"
      ]
     },
     "execution_count": 104,
     "metadata": {},
     "output_type": "execute_result"
    },
    {
     "data": {
      "text/plain": [
       "<Figure size 640x480 with 1 Axes>"
      ],
      "image/png": "[encoded data removed]"
     },
     "metadata": {},
     "output_type": "display_data"
    }
   ],
   "execution_count": 104
  },
  {
   "metadata": {
    "ExecuteTime": {
     "end_time": "2024-09-07T21:46:28.386194Z",
     "start_time": "2024-09-07T21:46:28.371748Z"
    }
   },
   "cell_type": "code",
   "source": [
    "from sklearn.metrics import r2_score\n",
    "\n",
    "den_r2 = (y_norm - np.mean(y_norm))**2\n",
    "num_r2 = (y_aprox - np.mean(y_norm))**2\n",
    "r2 = np.sum(num_r2) / np.sum(den_r2)\n",
    "print(r2)\n",
    "print(r2_score(y_norm,y_aprox))"
   ],
   "id": "b9d88c7090020ddd",
   "outputs": [
    {
     "name": "stdout",
     "output_type": "stream",
     "text": [
      "0.0017077763671522978\n",
      "0.003486659814211923\n"
     ]
    }
   ],
   "execution_count": 105
  },
  {
   "metadata": {
    "ExecuteTime": {
     "end_time": "2024-09-07T21:46:35.042700Z",
     "start_time": "2024-09-07T21:46:35.032863Z"
    }
   },
   "cell_type": "code",
   "source": "print(w)",
   "id": "da39892b6d49e714",
   "outputs": [
    {
     "name": "stdout",
     "output_type": "stream",
     "text": [
      "[ 1.16909702e-02  1.16909617e-02  1.16910487e-02  1.16910465e-02\n",
      "  1.16910151e-02  1.16909958e-02  1.16910219e-02  1.16909776e-02\n",
      "  1.16909900e-02  1.16909677e-02  1.16909745e-02  1.16910435e-02\n",
      "  2.39103181e-04  1.19663962e-04  3.15428666e-04  5.80212528e-05\n",
      "  1.44793337e-03  4.41552565e-03  1.51843915e-02  2.39249083e-05\n",
      "  4.89438366e-04 -3.92475080e-04  2.10705081e-04  7.85097794e-06\n",
      "  2.79764705e-06  8.92195320e-07  4.71900861e-06  5.10629843e-07\n",
      "  1.60006054e-04  1.14028388e-03  1.18255173e-02 -4.62298925e-06\n",
      "  2.47770172e-05 -9.06175338e-05  2.06251564e-06  1.61567645e-07]\n"
     ]
    }
   ],
   "execution_count": 106
  }
 ],
 "metadata": {
  "kernelspec": {
   "display_name": "Python 3",
   "language": "python",
   "name": "python3"
  },
  "language_info": {
   "codemirror_mode": {
    "name": "ipython",
    "version": 2
   },
   "file_extension": ".py",
   "mimetype": "text/x-python",
   "name": "python",
   "nbconvert_exporter": "python",
   "pygments_lexer": "ipython2",
   "version": "2.7.6"
  }
 },
 "nbformat": 4,
 "nbformat_minor": 5
}
